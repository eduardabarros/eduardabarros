{
  "nbformat": 4,
  "nbformat_minor": 0,
  "metadata": {
    "colab": {
      "name": "definicoes_exemplos.ipynb",
      "provenance": [],
      "authorship_tag": "ABX9TyM6cXYB6xTEvbnZ0Go/VW0E",
      "include_colab_link": true
    },
    "kernelspec": {
      "name": "python3",
      "display_name": "Python 3"
    },
    "language_info": {
      "name": "python"
    }
  },
  "cells": [
    {
      "cell_type": "markdown",
      "metadata": {
        "id": "view-in-github",
        "colab_type": "text"
      },
      "source": [
        "<a href=\"https://colab.research.google.com/github/eduardabarros/eduardabarros/blob/main/dir_dicionario/definicoes_exemplos.ipynb\" target=\"_parent\"><img src=\"https://colab.research.google.com/assets/colab-badge.svg\" alt=\"Open In Colab\"/></a>"
      ]
    },
    {
      "cell_type": "markdown",
      "source": [
        "\n",
        "\n",
        "*   **Float:** Número decimal (3,222)\n",
        "*   **Int:** Número inteiro   (3)\n",
        "*   **Roand:** Arredonda os float (Exemplo 1)\n",
        "*   **Strings:** Caracteres (sempre escritos entre aspas, exemplo 2)\n",
        "*   **Concatenação:** Exemplo de operação com string (Exemplos 2 e 3)\n",
        "*   **Indexação de Strings:** É possível acessar o um caracter exato ou um conjunto de caracteres da string (Exemplo 4, 5, 6, 7 e 8) \n",
        "*   **Lista:** É uma coleção de objetos que são chamados de elementos ou itens e podem ser indexadas como as strings (Exemplo 9)\n",
        "*   **Sintax das listas:** Dois colchetes que contêm os objetos, que por sua vez são separados por vígulas que chamamos de delimitadores (Exemplo 9)\n",
        "*   **Função len( ):** Determina o tamanho de uma lista (Exemplo 10)\n",
        "*   **As listas são mutáveis:** Como mudar um item da lista (Exemplo 11)\n",
        "*   **Append:** Acrescentar algo a lista (Exemplo 12)\n",
        "*   **Selecionando sublistas ou fatiando a lista:** Irá apresentar apenas os itens pedidos (Exemplos 13, 14 e 15)\n",
        "*   **Atualizando toda uma sub-lista de uma só vez:** Exemplo 16\n",
        "*   **Removendo elementos de uma lista:** Atribui-se uma lista vazia a eles (Exemplo 17) ou utiliza-se o comando del (Exemplo 18 e 19)\n",
        "\n",
        "\n",
        "\n",
        "\n",
        "\n",
        "\n",
        "\n",
        "\n",
        "\n",
        "\n",
        "\n",
        "\n"
      ],
      "metadata": {
        "id": "CxXp9tJ72wB7"
      }
    },
    {
      "cell_type": "code",
      "source": [
        "# Exemplo 1\n",
        "\n",
        "import math\n",
        "#biblioteca de matemática\n",
        "\n",
        "print('Lei de Coulomb')\n",
        "\n",
        "N = 9*10**(9)\n",
        "C1 = 3*10**(-6)\n",
        "C2 = 5*10**(-6)\n",
        "d = 2\n",
        "Fc = (C1*C2*N)/(d**2)\n",
        "print(round(Fc,2),'N')\n",
        "\n",
        "# round é usado para arredondar\n",
        "# o 2 no exemplo acima é para definir quantas casas decimais quero que apareça no arredondamento\n"
      ],
      "metadata": {
        "colab": {
          "base_uri": "https://localhost:8080/"
        },
        "id": "R5hNoHaAbRxM",
        "outputId": "8caadf43-c7cc-4e27-87d5-7ca88a08fbb2"
      },
      "execution_count": null,
      "outputs": [
        {
          "output_type": "stream",
          "name": "stdout",
          "text": [
            "Lei de Coulomb\n",
            "0.03 N\n"
          ]
        }
      ]
    },
    {
      "cell_type": "code",
      "source": [
        "# Exemplo 2\n",
        "\n",
        "variavel_1 = 'esse é um exemplo de string'\n",
        "variavel_2 = 'e de concatenação de string'\n",
        "variavel_final = variavel_1 + ' ' + variavel_2\n",
        "\n",
        "print(variavel_1)\n",
        "print(variavel_2)\n",
        "print(variavel_final)\n",
        "\n",
        "# Exemplo da aula da prof Helena na Escola de Física da UERJ - 2022 \n"
      ],
      "metadata": {
        "colab": {
          "base_uri": "https://localhost:8080/"
        },
        "id": "eiP79FPS4KYm",
        "outputId": "63baffd7-089b-444d-af1b-5278a46ab4dc"
      },
      "execution_count": null,
      "outputs": [
        {
          "output_type": "stream",
          "name": "stdout",
          "text": [
            "esse é um exemplo de string\n",
            "e de concatenação de string\n",
            "esse é um exemplo de string e de concatenação de string\n"
          ]
        }
      ]
    },
    {
      "cell_type": "code",
      "source": [
        "# Exemplo 3\n",
        "\n",
        "oi = 'hello! '*3\n",
        "print(oi)\n",
        "\n",
        "# Exemplo da aula da prof Helena na Escola de Física da UERJ - 2022 "
      ],
      "metadata": {
        "colab": {
          "base_uri": "https://localhost:8080/"
        },
        "id": "a6tqTt5Q5ToG",
        "outputId": "f0f320e8-6af1-4954-e85f-ff76030a4f13"
      },
      "execution_count": null,
      "outputs": [
        {
          "output_type": "stream",
          "name": "stdout",
          "text": [
            "hello! hello! hello! \n"
          ]
        }
      ]
    },
    {
      "cell_type": "code",
      "source": [
        "# Exemplo 4\n",
        "\n",
        "palavra = \"Python\"\n",
        "palavra[0]"
      ],
      "metadata": {
        "colab": {
          "base_uri": "https://localhost:8080/",
          "height": 35
        },
        "id": "ZV3WzuEF7lHc",
        "outputId": "e77244b1-de5a-4721-fe60-2ef3523a32c5"
      },
      "execution_count": null,
      "outputs": [
        {
          "output_type": "execute_result",
          "data": {
            "application/vnd.google.colaboratory.intrinsic+json": {
              "type": "string"
            },
            "text/plain": [
              "'P'"
            ]
          },
          "metadata": {},
          "execution_count": 189
        }
      ]
    },
    {
      "cell_type": "code",
      "source": [
        "# Exemplo 5\n",
        "\n",
        "palavra[4]"
      ],
      "metadata": {
        "colab": {
          "base_uri": "https://localhost:8080/",
          "height": 35
        },
        "id": "nxbD2JIt7npE",
        "outputId": "a8c58d25-45ae-4873-c93d-39ff2de285ec"
      },
      "execution_count": null,
      "outputs": [
        {
          "output_type": "execute_result",
          "data": {
            "application/vnd.google.colaboratory.intrinsic+json": {
              "type": "string"
            },
            "text/plain": [
              "'o'"
            ]
          },
          "metadata": {},
          "execution_count": 190
        }
      ]
    },
    {
      "cell_type": "code",
      "source": [
        "# Exemplo 6\n",
        "\n",
        "palavra[-1] #último caracter"
      ],
      "metadata": {
        "colab": {
          "base_uri": "https://localhost:8080/",
          "height": 35
        },
        "id": "y4LjAGvF7q8n",
        "outputId": "66f1ead9-cc7f-4c21-b346-692d7dc88117"
      },
      "execution_count": null,
      "outputs": [
        {
          "output_type": "execute_result",
          "data": {
            "application/vnd.google.colaboratory.intrinsic+json": {
              "type": "string"
            },
            "text/plain": [
              "'n'"
            ]
          },
          "metadata": {},
          "execution_count": 191
        }
      ]
    },
    {
      "cell_type": "code",
      "source": [
        "# Exemplo 7\n",
        "\n",
        "palavra[-2] #penúltimo caracter"
      ],
      "metadata": {
        "colab": {
          "base_uri": "https://localhost:8080/",
          "height": 35
        },
        "id": "2vD36seM7tkQ",
        "outputId": "9e2587b3-1a39-4c70-d40d-6c0f34f06367"
      },
      "execution_count": null,
      "outputs": [
        {
          "output_type": "execute_result",
          "data": {
            "application/vnd.google.colaboratory.intrinsic+json": {
              "type": "string"
            },
            "text/plain": [
              "'o'"
            ]
          },
          "metadata": {},
          "execution_count": 192
        }
      ]
    },
    {
      "cell_type": "code",
      "source": [
        "# Exemplo 8\n",
        "\n",
        "palavra[2:5] #caracteres da posição 2 até a posição 4"
      ],
      "metadata": {
        "colab": {
          "base_uri": "https://localhost:8080/",
          "height": 35
        },
        "id": "0YI7h6-Y7v82",
        "outputId": "38bcdb49-e49e-45db-e2de-f40333dfab8d"
      },
      "execution_count": null,
      "outputs": [
        {
          "output_type": "execute_result",
          "data": {
            "application/vnd.google.colaboratory.intrinsic+json": {
              "type": "string"
            },
            "text/plain": [
              "'tho'"
            ]
          },
          "metadata": {},
          "execution_count": 193
        }
      ]
    },
    {
      "cell_type": "code",
      "source": [
        "# Exemplo 9\n",
        "\n",
        "minha_lista = ['banana', 15.4, 8]\n",
        "type(minha_lista)\n",
        "print(minha_lista)\n",
        "\n",
        "# No Colab não precisa colocar print(...)"
      ],
      "metadata": {
        "colab": {
          "base_uri": "https://localhost:8080/"
        },
        "id": "bL07uPug7zBL",
        "outputId": "5034eaab-8292-4862-d777-015658f30c07"
      },
      "execution_count": null,
      "outputs": [
        {
          "output_type": "stream",
          "name": "stdout",
          "text": [
            "['banana', 15.4, 8]\n"
          ]
        }
      ]
    },
    {
      "cell_type": "code",
      "source": [
        "# Exemplo 10\n",
        "\n",
        "len(minha_lista)"
      ],
      "metadata": {
        "colab": {
          "base_uri": "https://localhost:8080/"
        },
        "id": "3i3F2p9-Bej_",
        "outputId": "0b15895e-c0c9-42f0-a753-2a299584c894"
      },
      "execution_count": null,
      "outputs": [
        {
          "output_type": "execute_result",
          "data": {
            "text/plain": [
              "3"
            ]
          },
          "metadata": {},
          "execution_count": 195
        }
      ]
    },
    {
      "cell_type": "code",
      "source": [
        "# Exemplo 11\n",
        "\n",
        "print(minha_lista[2])\n",
        "minha_lista[2] = 9\n",
        "print(minha_lista)\n",
        "\n",
        "# 1. pedimos para modificar o elemento 2 da lista que acima tinha sido definido como 8\n",
        "# 2. definimos um novo valor para o elemento 2 e aqui no Colab ele já aparece antes da lista por não precisar usar o print\n",
        "# 3. pedimos para imprimir a lista que já aparece modificada"
      ],
      "metadata": {
        "colab": {
          "base_uri": "https://localhost:8080/"
        },
        "id": "5WdnJz1PBi4n",
        "outputId": "594beca2-3f32-4761-c2d9-e174bf233e8b"
      },
      "execution_count": null,
      "outputs": [
        {
          "output_type": "stream",
          "name": "stdout",
          "text": [
            "8\n",
            "['banana', 15.4, 9]\n"
          ]
        }
      ]
    },
    {
      "cell_type": "code",
      "source": [
        "# Exemplo 12\n",
        "\n",
        "minha_lista.append(22.8)\n",
        "print(minha_lista)\n",
        "\n",
        "# para acrescentar algum elemento a lista basta usar .append()"
      ],
      "metadata": {
        "colab": {
          "base_uri": "https://localhost:8080/"
        },
        "id": "4dlFHFAuEOxl",
        "outputId": "ba8137f8-7bbe-483d-9f9e-92b26c56a015"
      },
      "execution_count": null,
      "outputs": [
        {
          "output_type": "stream",
          "name": "stdout",
          "text": [
            "['banana', 15.4, 9, 22.8]\n"
          ]
        }
      ]
    },
    {
      "cell_type": "code",
      "source": [
        "# Exemplo 13\n",
        "\n",
        "print(minha_lista)\n",
        "minha_lista[1:3]"
      ],
      "metadata": {
        "id": "UuabpNFOE-TK",
        "outputId": "05e6dc20-225a-486f-cad5-21cbb6ed77b4",
        "colab": {
          "base_uri": "https://localhost:8080/"
        }
      },
      "execution_count": null,
      "outputs": [
        {
          "output_type": "stream",
          "name": "stdout",
          "text": [
            "['banana', 15.4, 9, 22.8]\n"
          ]
        },
        {
          "output_type": "execute_result",
          "data": {
            "text/plain": [
              "[15.4, 9]"
            ]
          },
          "metadata": {},
          "execution_count": 198
        }
      ]
    },
    {
      "cell_type": "code",
      "source": [
        "# Exemplo 14\n",
        "\n",
        "minha_lista[2:]\n",
        "\n",
        "# Nesse caso apresenta os itens do 2 até o final da lista"
      ],
      "metadata": {
        "colab": {
          "base_uri": "https://localhost:8080/"
        },
        "id": "dw5TmOADG1ig",
        "outputId": "b6285bc5-c4ec-4d59-d6a7-a6a9b648de7f"
      },
      "execution_count": null,
      "outputs": [
        {
          "output_type": "execute_result",
          "data": {
            "text/plain": [
              "[9, 22.8]"
            ]
          },
          "metadata": {},
          "execution_count": 199
        }
      ]
    },
    {
      "cell_type": "code",
      "source": [
        "# Exemplo 15\n",
        "\n",
        "minha_lista[:2]\n",
        "\n",
        "# Nesse caso apresenta os itens do início da lista até o primeiro item"
      ],
      "metadata": {
        "colab": {
          "base_uri": "https://localhost:8080/"
        },
        "id": "GHLmzFeMG8cx",
        "outputId": "bccc5f11-7de3-4fac-8c4a-0f60fa9d9fae"
      },
      "execution_count": null,
      "outputs": [
        {
          "output_type": "execute_result",
          "data": {
            "text/plain": [
              "['banana', 15.4]"
            ]
          },
          "metadata": {},
          "execution_count": 200
        }
      ]
    },
    {
      "cell_type": "code",
      "source": [
        "# Exemplo 16\n",
        "\n",
        "a_list = [ \"a\" , \"b\" , \"c\" , \"d\" , \"e\" , \"f\" ]\n",
        "a_list [ 1 : 3 ] = [ \"x\" , \"y\" ]\n",
        "print(a_list)"
      ],
      "metadata": {
        "colab": {
          "base_uri": "https://localhost:8080/"
        },
        "id": "CIXmXvL5IPev",
        "outputId": "e8108cea-f847-4d81-a15f-23b88c028d24"
      },
      "execution_count": null,
      "outputs": [
        {
          "output_type": "stream",
          "name": "stdout",
          "text": [
            "['a', 'x', 'y', 'd', 'e', 'f']\n"
          ]
        }
      ]
    },
    {
      "cell_type": "code",
      "source": [
        "# Exemplo 17\n",
        "\n",
        "a_list[1:3]=[]\n",
        "print(a_list)"
      ],
      "metadata": {
        "colab": {
          "base_uri": "https://localhost:8080/"
        },
        "id": "AAdn0sKmI05F",
        "outputId": "62ef1bd2-6841-48fc-f45e-4f9aeff26d85"
      },
      "execution_count": null,
      "outputs": [
        {
          "output_type": "stream",
          "name": "stdout",
          "text": [
            "['a', 'd', 'e', 'f']\n"
          ]
        }
      ]
    },
    {
      "cell_type": "code",
      "source": [
        "# Exemplo 18\n",
        "\n",
        "a = [\"um\", \"dois\", \"três\"]\n",
        "del a[1]\n",
        "print(a)"
      ],
      "metadata": {
        "colab": {
          "base_uri": "https://localhost:8080/"
        },
        "id": "eL76nZAAJPFF",
        "outputId": "892d6a4b-02ef-41cd-e5d6-80db5e638bc3"
      },
      "execution_count": null,
      "outputs": [
        {
          "output_type": "stream",
          "name": "stdout",
          "text": [
            "['um', 'três']\n"
          ]
        }
      ]
    },
    {
      "cell_type": "code",
      "source": [
        "# Exemplo 19\n",
        "\n",
        "b=[\"un\",\"deux\",\"trois\",\"quatre\",\"cinq\"]\n",
        "del b[2:4]\n",
        "b"
      ],
      "metadata": {
        "colab": {
          "base_uri": "https://localhost:8080/"
        },
        "id": "3c-PU65bKJI4",
        "outputId": "d1f852f6-5760-4eee-8ea7-907a77921f14"
      },
      "execution_count": null,
      "outputs": [
        {
          "output_type": "execute_result",
          "data": {
            "text/plain": [
              "['un', 'deux', 'cinq']"
            ]
          },
          "metadata": {},
          "execution_count": 204
        }
      ]
    },
    {
      "cell_type": "code",
      "source": [
        "# Exemplo 20\n",
        "\n",
        "print(a_list)\n",
        "a_list[1:4:2]      # pegar uma fatia de índices 1 a 4 com passo de 2 elementos."
      ],
      "metadata": {
        "colab": {
          "base_uri": "https://localhost:8080/"
        },
        "id": "hIl4y3o_KRu9",
        "outputId": "8c5430ac-7048-44ff-ccb1-d6e224da2fc2"
      },
      "execution_count": null,
      "outputs": [
        {
          "output_type": "stream",
          "name": "stdout",
          "text": [
            "['a', 'd', 'e', 'f']\n"
          ]
        },
        {
          "output_type": "execute_result",
          "data": {
            "text/plain": [
              "['d', 'f']"
            ]
          },
          "metadata": {},
          "execution_count": 205
        }
      ]
    }
  ]
}